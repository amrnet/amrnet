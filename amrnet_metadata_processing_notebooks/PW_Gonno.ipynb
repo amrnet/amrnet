{
 "cells": [
  {
   "cell_type": "markdown",
   "id": "d392a24e-f8da-4829-9337-5ec4ed9f2bb7",
   "metadata": {},
   "source": [
    "## Pathogenwatch N. Gonno metadata\n",
    "    - This notebook processes N. Gonno metadata\n",
    "    - Flags uncurated and repeat isolates\n",
    "### Takes inputs:\n",
    "     -  Directory paths\n",
    "### Output:\n",
    "    - Concatenated processed Gonno metadata .csv files\n"
   ]
  },
  {
   "cell_type": "markdown",
   "id": "27392534-5d63-4280-ab33-c1395abda582",
   "metadata": {},
   "source": [
    "### Import modules"
   ]
  },
  {
   "cell_type": "code",
   "execution_count": 1,
   "id": "e48e2c28-82c0-47d1-a263-7f5a8f28da1b",
   "metadata": {},
   "outputs": [],
   "source": [
    "import pandas as pd\n",
    "import os\n",
    "import glob\n",
    "import numpy as np\n",
    "pd.options.mode.chained_assignment = None\n",
    "import warnings\n",
    "warnings.filterwarnings('ignore')"
   ]
  },
  {
   "cell_type": "markdown",
   "id": "f9972850-50d0-491e-8e48-a617272ba157",
   "metadata": {},
   "source": [
    "### Metadata PATH"
   ]
  },
  {
   "cell_type": "code",
   "execution_count": 2,
   "id": "10b74054-8474-4b3d-9e6e-a53c3c83ed0a",
   "metadata": {},
   "outputs": [],
   "source": [
    "collections_path=\"\""
   ]
  },
  {
   "cell_type": "markdown",
   "id": "cb5e1830-a0c4-42b5-bb34-fa68ca854f68",
   "metadata": {},
   "source": [
    "### Subdirectories list"
   ]
  },
  {
   "cell_type": "code",
   "execution_count": 3,
   "id": "d571c831-d4d7-454e-bbdf-44e241fdfcfe",
   "metadata": {},
   "outputs": [],
   "source": [
    "# List of subdirectories\n",
    "subdirectories = ['0c5bhggpwb3f-thomas-et-al-2019', 'j4mxcy44euca-kwong-et-al-2018',\n",
    "'0xy89kwboxbr-ryan-et-al-2018', 'nkhbgsps8ws4-osnes-et-al-2020',\n",
    "'40kdi4tj0mw5-schmerer-et-al-2020', 'qfqviofgd6i8-demczuk-et-al-2016',\n",
    "'481d4jk73jaz-demczuk-et-al-2015', 'rll02476p0cm-yahara-et-al-2018',\n",
    "'4hm16wpbztv9-didelot-et-al-2016', 'rvwzxxo2uxw0-lee-et-al-2018',\n",
    "'600cf60ljmjd-cehovin-et-al-2018', 'sjihkc9vrqkd-lan-et-al-2020',\n",
    "'6s7iszmj1edv-mortimer-et-al-2020', 'u99d9e02hkns-wind-et-al-2017',\n",
    "'8o3g3eusd2uw-kwong-et-al-2016', 'ug6zrt1wmzd4-buckley-et-al-2018',\n",
    "'9stz0m94hin7-sanchez-buso-et-al-2019', 'uzh2c7kc076l-grad-et-al-2016',\n",
    "'b9xxapwkh5tz-alfsnes-et-al-2020', 'v53qedj4o70c-grad-et-al-2014',\n",
    "'dz188zpiggd1-ezewudo-et-al-2015', 'vxegrl583s4p-de-silva-et-al-2016',\n",
    "'eurogasp2013', 'xazjz3gx75on-golparian-et-al-2020',\n",
    "'eurogasp2018', 'z9p4pvkr6jze-williamson-et-al-2019',\n",
    "'h3cz3rwyaglw-fifer-et-al-2018', 'zrl97zpngnaj-chisholm-et-al-2016',\n",
    "'iapx9h18cgyo-grasp-town-et-al-2020']"
   ]
  },
  {
   "cell_type": "code",
   "execution_count": 4,
   "id": "8c3cb4e1-f618-4a24-99f7-accd46a9e058",
   "metadata": {},
   "outputs": [],
   "source": [
    "# Define patterns to match files\n",
    "file_patterns = [\n",
    "    '*metadata.csv',\n",
    "    '*typing.csv',\n",
    "    '*amr-profile.csv',\n",
    "    '*amr-genes.csv',\n",
    "    '*amr-snps.csv'\n",
    "]"
   ]
  },
  {
   "cell_type": "code",
   "execution_count": 5,
   "id": "c734bed5-7977-4a91-a3af-9c9a4e10d006",
   "metadata": {},
   "outputs": [],
   "source": [
    "# Dictionary to store the DataFrames\n",
    "dataframes = {}"
   ]
  },
  {
   "cell_type": "code",
   "execution_count": 6,
   "id": "58008da9-4068-48aa-9abc-9e9c666e0fd3",
   "metadata": {},
   "outputs": [],
   "source": [
    "# Process each subdirectory\n",
    "for subdir in subdirectories:\n",
    "    \"\"\"\n",
    "    read the CSV files within each subdirectory, merge them based on a common column ('NAME')\n",
    "    store the resulting merged DataFrame in a dictionary\n",
    "    \"\"\"\n",
    "    subdir_path = os.path.join(collections_path, subdir)\n",
    "    merged_df = None\n",
    "\n",
    "    # Find and merge the CSV files matching the patterns\n",
    "    for pattern in file_patterns:\n",
    "        files = glob.glob(os.path.join(subdir_path, pattern))\n",
    "        for file_path in sorted(files):\n",
    "            df = pd.read_csv(file_path)\n",
    "\n",
    "            if merged_df is None:\n",
    "                merged_df = df\n",
    "            else:\n",
    "                merged_df = pd.merge(merged_df, df, on='NAME', how='outer')\n",
    "\n",
    "    # Store the merged DataFrame in the dictionary with a key as the subdirectory name\n",
    "    dataframes[subdir] = merged_df"
   ]
  },
  {
   "cell_type": "markdown",
   "id": "e4038458-1a30-4e59-a57d-eb6fe7a2df2b",
   "metadata": {},
   "source": [
    "# Inspect each dataframe individually to verify the metadata"
   ]
  },
  {
   "cell_type": "markdown",
   "id": "d9723cf3-e227-40b3-b76b-29ef0af33bee",
   "metadata": {},
   "source": [
    "\n",
    "# EuroGASP 2018"
   ]
  },
  {
   "cell_type": "code",
   "execution_count": 7,
   "id": "a2a6b4ef-8bb1-4c7b-88e9-84dc4bab7ec2",
   "metadata": {},
   "outputs": [],
   "source": [
    "eurogasp2018_df = dataframes['eurogasp2018']"
   ]
  },
  {
   "cell_type": "markdown",
   "id": "e6e9252c-aa02-458c-9e2f-bcffbcf76a4b",
   "metadata": {},
   "source": [
    "#### Add missing information in project accession, collection label, and literature link columns"
   ]
  },
  {
   "cell_type": "code",
   "execution_count": 9,
   "id": "d50643fa-5e01-4b79-a11a-d05d13e26bb6",
   "metadata": {},
   "outputs": [],
   "source": [
    "eurogasp2018_df['PROJECT ACCESSION'] = 'PRJEB34068'\n",
    "eurogasp2018_df['COLLECTION LABEL'] = 'EuroGASP2018'\n",
    "eurogasp2018_df['LITERATURELINK'] = '35659907'\n"
   ]
  },
  {
   "cell_type": "markdown",
   "id": "a58a7d74-9908-44b2-b08b-e974bc941aad",
   "metadata": {},
   "source": [
    "#### Country information for EuroGASP 2018 is missing\n",
    "#### This information was added from metadata downloaded from PubMLST"
   ]
  },
  {
   "cell_type": "code",
   "execution_count": 10,
   "id": "5d335ded-5992-45ea-bb81-af92541d08fc",
   "metadata": {},
   "outputs": [],
   "source": [
    "eurogasp2018_df.drop('COUNTRY', axis=1, inplace=True)"
   ]
  },
  {
   "cell_type": "code",
   "execution_count": 11,
   "id": "1a089d81-8b81-4a99-8832-288b1f2327ba",
   "metadata": {},
   "outputs": [],
   "source": [
    "## Read eurogasp2018 PubMLST metadata to file\n",
    "GASP_2018_EURO = pd.read_csv('/Users/lshmg29/Desktop/salmonella_metadata/GASP_2018_EURO.csv', sep=',',\n",
    "                             names=['isolate', 'COUNTRY'], header=0)\n",
    "# merge the dataframes\n",
    "eurogasp2018_df = pd.merge(eurogasp2018_df, GASP_2018_EURO,\n",
    "        left_on='NAME', right_on='isolate', how='outer')\n",
    "eurogasp2018_df.drop('isolate', axis=1, inplace=True)\n"
   ]
  },
  {
   "cell_type": "code",
   "execution_count": 85,
   "id": "ac399748-2d41-4853-bff1-7db0a1d2c1da",
   "metadata": {},
   "outputs": [
    {
     "data": {
      "text/plain": [
       "2375"
      ]
     },
     "execution_count": 85,
     "metadata": {},
     "output_type": "execute_result"
    }
   ],
   "source": [
    "len(eurogasp2018_df)"
   ]
  },
  {
   "cell_type": "markdown",
   "id": "cde0e49f-1055-4087-9587-62986287b1ec",
   "metadata": {},
   "source": [
    "\n",
    "# Eurogasp2013"
   ]
  },
  {
   "cell_type": "code",
   "execution_count": 12,
   "id": "09341521-2b8e-43d4-bf13-82eb63222d3a",
   "metadata": {},
   "outputs": [],
   "source": [
    "eurogasp2013_df = dataframes['eurogasp2013']"
   ]
  },
  {
   "cell_type": "markdown",
   "id": "87925010-e57f-4279-9a19-cb8ae7cbc409",
   "metadata": {},
   "source": [
    "#### Add missing information in project accession, collection label, and literature link columns"
   ]
  },
  {
   "cell_type": "code",
   "execution_count": 13,
   "id": "fb632928-f1fc-40eb-898b-79e767d297bc",
   "metadata": {},
   "outputs": [],
   "source": [
    "eurogasp2013_df['PROJECT ACCESSION'] = 'PRJEB9227'\n",
    "eurogasp2013_df['COLLECTION LABEL'] = 'EuroGASP2013'\n",
    "eurogasp2013_df['LITERATURELINK'] = '29776807'"
   ]
  },
  {
   "cell_type": "markdown",
   "id": "8f8f7068-5241-48a6-809f-b2152daf76bb",
   "metadata": {},
   "source": [
    "#### Sample accession and Country column is missing from the metadata\n",
    "#### This information was added from metadata downloaded from PubMLST"
   ]
  },
  {
   "cell_type": "code",
   "execution_count": 14,
   "id": "200c280b-a684-4189-91fa-802e0f8437d6",
   "metadata": {},
   "outputs": [],
   "source": [
    "# drop columns with NA\n",
    "eurogasp2013_df.drop('COUNTRY', axis=1, inplace=True)\n",
    "eurogasp2013_df.drop('SAMPLE ACCESSION', axis=1, inplace=True)"
   ]
  },
  {
   "cell_type": "code",
   "execution_count": 15,
   "id": "d6dcc254-88e3-467e-b2cd-8ad561ca4091",
   "metadata": {},
   "outputs": [],
   "source": [
    "# Read eurogasp2018 PubMLST metadata to file\n",
    "GASP_2013_EURO = pd.read_csv('/Users/lshmg29/Desktop/salmonella_metadata/GASP_2013_EURO.csv', sep=',',\n",
    "                            names=['isolate', 'COUNTRY','SAMPLE ACCESSION'])\n",
    "\n",
    "## merge the dataframe\n",
    "eurogasp2013_df = pd.merge(eurogasp2013_df, GASP_2013_EURO,\n",
    "        left_on='NAME', right_on='isolate', how='inner')\n",
    "eurogasp2013_df.drop('isolate', axis=1, inplace=True)"
   ]
  },
  {
   "cell_type": "code",
   "execution_count": null,
   "id": "7fc6556c-6b23-46fa-8473-30c535b82460",
   "metadata": {},
   "outputs": [],
   "source": [
    "len(eurogasp2013_df)"
   ]
  },
  {
   "cell_type": "markdown",
   "id": "e2aa3996-8bf7-48e7-bd97-6ea335aecd5b",
   "metadata": {},
   "source": [
    "\n",
    "# Williamson et al. (2019)"
   ]
  },
  {
   "cell_type": "code",
   "execution_count": 17,
   "id": "08b37e8e-a5ea-4a58-8007-f4b4a840a9c5",
   "metadata": {},
   "outputs": [],
   "source": [
    "williamson_2019_df = dataframes['z9p4pvkr6jze-williamson-et-al-2019']"
   ]
  },
  {
   "cell_type": "code",
   "execution_count": 18,
   "id": "86c6c975-8664-4c9a-bfad-00fd71e4e313",
   "metadata": {},
   "outputs": [
    {
     "data": {
      "text/plain": [
       "2179"
      ]
     },
     "execution_count": 18,
     "metadata": {},
     "output_type": "execute_result"
    }
   ],
   "source": [
    "len(williamson_2019_df)"
   ]
  },
  {
   "cell_type": "markdown",
   "id": "853b6528-a7d7-4bc9-b3f0-5925c132eb66",
   "metadata": {},
   "source": [
    "# Town et al. (2020)"
   ]
  },
  {
   "cell_type": "code",
   "execution_count": 19,
   "id": "bde108a0-4cf5-4032-a3ae-0ba9ebc4a6a4",
   "metadata": {},
   "outputs": [],
   "source": [
    "town_2020_df = dataframes['iapx9h18cgyo-grasp-town-et-al-2020']"
   ]
  },
  {
   "cell_type": "code",
   "execution_count": 20,
   "id": "4dd1a812-ec57-437c-bf72-b9d3073982c4",
   "metadata": {},
   "outputs": [
    {
     "data": {
      "text/plain": [
       "1288"
      ]
     },
     "execution_count": 20,
     "metadata": {},
     "output_type": "execute_result"
    }
   ],
   "source": [
    "len(town_2020_df)"
   ]
  },
  {
   "cell_type": "markdown",
   "id": "3fba7b3d-e17f-4e12-8dc9-32212825eb2a",
   "metadata": {},
   "source": [
    "# De Silva et al. (2016)"
   ]
  },
  {
   "cell_type": "code",
   "execution_count": 21,
   "id": "47bfb40e-3c58-4a83-b771-fcda2ac8796d",
   "metadata": {},
   "outputs": [],
   "source": [
    "desilva_2016_df = dataframes['vxegrl583s4p-de-silva-et-al-2016']"
   ]
  },
  {
   "cell_type": "code",
   "execution_count": 22,
   "id": "194db44f-88b5-4f56-8ce0-d2c4dbc6ec72",
   "metadata": {},
   "outputs": [
    {
     "data": {
      "text/plain": [
       "1783"
      ]
     },
     "execution_count": 22,
     "metadata": {},
     "output_type": "execute_result"
    }
   ],
   "source": [
    "len(desilva_2016_df)"
   ]
  },
  {
   "cell_type": "markdown",
   "id": "27f08a54-bfed-4524-ba25-5b15cf37af2a",
   "metadata": {},
   "source": [
    "# Mortimer et al. (2020)"
   ]
  },
  {
   "cell_type": "code",
   "execution_count": 23,
   "id": "6c956f59-c66c-4d6e-a345-865e20dcbf6e",
   "metadata": {},
   "outputs": [],
   "source": [
    "mortimer_2020_df = dataframes['6s7iszmj1edv-mortimer-et-al-2020']"
   ]
  },
  {
   "cell_type": "code",
   "execution_count": 24,
   "id": "f63f1078-a0e5-40aa-9e87-2cccbfceed9a",
   "metadata": {},
   "outputs": [],
   "source": [
    "# add missing columns\n",
    "mortimer_2020_df['LITERATURELINK'] = '32829411'"
   ]
  },
  {
   "cell_type": "code",
   "execution_count": 25,
   "id": "7faf8a5b-06e4-49d0-bf08-4673b0136eae",
   "metadata": {},
   "outputs": [
    {
     "data": {
      "text/plain": [
       "891"
      ]
     },
     "execution_count": 25,
     "metadata": {},
     "output_type": "execute_result"
    }
   ],
   "source": [
    "len(mortimer_2020_df)"
   ]
  },
  {
   "cell_type": "markdown",
   "id": "2d4d9d72-46ac-45be-9611-4265a0d7203a",
   "metadata": {},
   "source": [
    "# Alfsnes et al. (2020)"
   ]
  },
  {
   "cell_type": "code",
   "execution_count": 26,
   "id": "1228e27b-c5c7-4c97-9c5e-2b01e757db6b",
   "metadata": {},
   "outputs": [],
   "source": [
    "alfsnes_2020_df = dataframes['b9xxapwkh5tz-alfsnes-et-al-2020']"
   ]
  },
  {
   "cell_type": "code",
   "execution_count": 27,
   "id": "ac8c2793-b73f-41e5-94ac-363d0aa8ab8a",
   "metadata": {},
   "outputs": [
    {
     "data": {
      "text/plain": [
       "816"
      ]
     },
     "execution_count": 27,
     "metadata": {},
     "output_type": "execute_result"
    }
   ],
   "source": [
    "len(alfsnes_2020_df)"
   ]
  },
  {
   "cell_type": "markdown",
   "id": "2c7105e8-8e07-445d-b468-49e868d19ae3",
   "metadata": {},
   "source": [
    "# Osnes et al. (2020)"
   ]
  },
  {
   "cell_type": "code",
   "execution_count": 28,
   "id": "2160f63f-b3fc-4606-83c2-d42224a1fa0c",
   "metadata": {},
   "outputs": [],
   "source": [
    "osnes_2020_df = dataframes['nkhbgsps8ws4-osnes-et-al-2020']"
   ]
  },
  {
   "cell_type": "code",
   "execution_count": 29,
   "id": "0e00f608-5ebf-4d5d-a414-3fe12af725bd",
   "metadata": {},
   "outputs": [
    {
     "data": {
      "text/plain": [
       "133"
      ]
     },
     "execution_count": 29,
     "metadata": {},
     "output_type": "execute_result"
    }
   ],
   "source": [
    "len(osnes_2020_df)"
   ]
  },
  {
   "cell_type": "markdown",
   "id": "3e0a247c-e4c2-406a-affb-40cba133fed0",
   "metadata": {},
   "source": [
    "#### add missing LITERATURELINK "
   ]
  },
  {
   "cell_type": "code",
   "execution_count": 30,
   "id": "8f830e27-3484-44dc-b7cb-a4e5dc8a4449",
   "metadata": {},
   "outputs": [],
   "source": [
    "osnes_2020_df['LITERATURELINK'] = '33200978'"
   ]
  },
  {
   "cell_type": "markdown",
   "id": "d9e8c6c1-0e4a-4810-ae78-e6a374d3d797",
   "metadata": {},
   "source": [
    "# Schmerer et al. (2020)"
   ]
  },
  {
   "cell_type": "code",
   "execution_count": 31,
   "id": "bef94208-84c0-4883-b2ad-cfd834c33129",
   "metadata": {},
   "outputs": [],
   "source": [
    "schmerer_2020_df = dataframes['40kdi4tj0mw5-schmerer-et-al-2020']"
   ]
  },
  {
   "cell_type": "code",
   "execution_count": 32,
   "id": "e88f598a-81bb-4a90-bdeb-a879db3030d3",
   "metadata": {},
   "outputs": [
    {
     "data": {
      "text/plain": [
       "324"
      ]
     },
     "execution_count": 32,
     "metadata": {},
     "output_type": "execute_result"
    }
   ],
   "source": [
    "len(schmerer_2020_df)"
   ]
  },
  {
   "cell_type": "markdown",
   "id": "ef7de3e1-6652-4e65-ae87-4aa3a0a137ac",
   "metadata": {},
   "source": [
    "# Cehovin et al. (2018)"
   ]
  },
  {
   "cell_type": "code",
   "execution_count": 33,
   "id": "31e5ada3-2c0c-46c8-9fe4-c5420aa6f0cd",
   "metadata": {},
   "outputs": [],
   "source": [
    "cehovin_2018_df = dataframes['600cf60ljmjd-cehovin-et-al-2018']"
   ]
  },
  {
   "cell_type": "code",
   "execution_count": 34,
   "id": "fd09632a-72e9-481d-9baf-1b089e1ffa6d",
   "metadata": {},
   "outputs": [
    {
     "data": {
      "text/plain": [
       "112"
      ]
     },
     "execution_count": 34,
     "metadata": {},
     "output_type": "execute_result"
    }
   ],
   "source": [
    "len(cehovin_2018_df)"
   ]
  },
  {
   "cell_type": "markdown",
   "id": "db6c04a8-2ad0-4b64-876b-d2185de937e5",
   "metadata": {},
   "source": [
    "# Grad et al. (2016)"
   ]
  },
  {
   "cell_type": "code",
   "execution_count": 35,
   "id": "5d841859-ced1-4a14-abb3-a159e8aa9acc",
   "metadata": {},
   "outputs": [],
   "source": [
    "grad_2016_df = dataframes['uzh2c7kc076l-grad-et-al-2016']"
   ]
  },
  {
   "cell_type": "code",
   "execution_count": 36,
   "id": "8e9091f8-9dfe-4f9b-a95a-e4898e5aae4c",
   "metadata": {},
   "outputs": [
    {
     "data": {
      "text/plain": [
       "1035"
      ]
     },
     "execution_count": 36,
     "metadata": {},
     "output_type": "execute_result"
    }
   ],
   "source": [
    "len(grad_2016_df)"
   ]
  },
  {
   "cell_type": "markdown",
   "id": "20c7f80e-370d-41a3-be39-802af89d00d5",
   "metadata": {},
   "source": [
    "# Grad et al. (2014)"
   ]
  },
  {
   "cell_type": "code",
   "execution_count": 37,
   "id": "c65a3c14-4979-47bb-b13c-6415a5dbaedc",
   "metadata": {},
   "outputs": [],
   "source": [
    "grad_2014_df = dataframes['v53qedj4o70c-grad-et-al-2014']"
   ]
  },
  {
   "cell_type": "code",
   "execution_count": 38,
   "id": "4de8e6a3-df2d-4b2f-8627-992d88613f0e",
   "metadata": {},
   "outputs": [
    {
     "data": {
      "text/plain": [
       "216"
      ]
     },
     "execution_count": 38,
     "metadata": {},
     "output_type": "execute_result"
    }
   ],
   "source": [
    "len(grad_2014_df)"
   ]
  },
  {
   "cell_type": "markdown",
   "id": "0c4c5e19-691a-4e87-aa7b-2e1f86ad5dd1",
   "metadata": {},
   "source": [
    "# Ezewudo et al. (2015)"
   ]
  },
  {
   "cell_type": "code",
   "execution_count": 39,
   "id": "3a5c9f0f-f505-4cd8-ac38-f48c089eab6e",
   "metadata": {},
   "outputs": [],
   "source": [
    "ezewudo_2015_df = dataframes['dz188zpiggd1-ezewudo-et-al-2015']"
   ]
  },
  {
   "cell_type": "code",
   "execution_count": 40,
   "id": "33783be2-0e94-40aa-96f3-3ce729cc95a6",
   "metadata": {},
   "outputs": [
    {
     "data": {
      "text/plain": [
       "18"
      ]
     },
     "execution_count": 40,
     "metadata": {},
     "output_type": "execute_result"
    }
   ],
   "source": [
    "len(ezewudo_2015_df)"
   ]
  },
  {
   "cell_type": "markdown",
   "id": "6bb647c1-f9aa-4038-bb3e-042c698bc9a6",
   "metadata": {},
   "source": [
    "# Wind et al. (2017)"
   ]
  },
  {
   "cell_type": "code",
   "execution_count": 41,
   "id": "02fc57ea-2563-4d0f-b9ba-a6dfefb19139",
   "metadata": {},
   "outputs": [],
   "source": [
    "wind_2017_df = dataframes['u99d9e02hkns-wind-et-al-2017']"
   ]
  },
  {
   "cell_type": "code",
   "execution_count": 42,
   "id": "2139f6db-ad24-40e2-b5dd-269e25420510",
   "metadata": {},
   "outputs": [
    {
     "data": {
      "text/plain": [
       "23"
      ]
     },
     "execution_count": 42,
     "metadata": {},
     "output_type": "execute_result"
    }
   ],
   "source": [
    "len(wind_2017_df)"
   ]
  },
  {
   "cell_type": "markdown",
   "id": "dab1d628-6426-4ce2-b989-4fd4ea48ef10",
   "metadata": {},
   "source": [
    "# Thomas et al. (2019)"
   ]
  },
  {
   "cell_type": "code",
   "execution_count": 43,
   "id": "ded4a349-0483-4de6-839f-88683b8af0d7",
   "metadata": {},
   "outputs": [],
   "source": [
    "thomas_2019_df = dataframes['0c5bhggpwb3f-thomas-et-al-2019']"
   ]
  },
  {
   "cell_type": "code",
   "execution_count": 44,
   "id": "16c0f35b-93d9-4f22-a3e9-97bda0b71c88",
   "metadata": {},
   "outputs": [
    {
     "data": {
      "text/plain": [
       "644"
      ]
     },
     "execution_count": 44,
     "metadata": {},
     "output_type": "execute_result"
    }
   ],
   "source": [
    "len(thomas_2019_df)"
   ]
  },
  {
   "cell_type": "markdown",
   "id": "37c7cc6c-47af-447d-bbcd-de17920b69a4",
   "metadata": {},
   "source": [
    "# Lan et al. (2020)"
   ]
  },
  {
   "cell_type": "code",
   "execution_count": 45,
   "id": "9ed3bddc-058e-4cf3-a1f9-a80ad95ea0e2",
   "metadata": {},
   "outputs": [],
   "source": [
    "lan_2020_df = dataframes['sjihkc9vrqkd-lan-et-al-2020']"
   ]
  },
  {
   "cell_type": "markdown",
   "id": "a7bca2a5-6a0f-4b7e-8836-80af33af42ea",
   "metadata": {},
   "source": [
    "# Golparian et al. (2020)"
   ]
  },
  {
   "cell_type": "code",
   "execution_count": 46,
   "id": "acce1de2-961b-4a1d-82a1-d80d7932adb8",
   "metadata": {},
   "outputs": [],
   "source": [
    "golparian_2020_df = dataframes['xazjz3gx75on-golparian-et-al-2020']"
   ]
  },
  {
   "cell_type": "code",
   "execution_count": 47,
   "id": "6fce7b22-4862-4b7a-86ee-10648c1e0113",
   "metadata": {},
   "outputs": [
    {
     "data": {
      "text/plain": [
       "192"
      ]
     },
     "execution_count": 47,
     "metadata": {},
     "output_type": "execute_result"
    }
   ],
   "source": [
    "len(golparian_2020_df)"
   ]
  },
  {
   "cell_type": "markdown",
   "id": "c700ca9d-3f21-46b3-ac09-bf85c14b23fd",
   "metadata": {},
   "source": [
    "# Chisholm et al. (2016)"
   ]
  },
  {
   "cell_type": "code",
   "execution_count": 48,
   "id": "da5c3823-039e-434c-a6c0-eb59347b6d87",
   "metadata": {},
   "outputs": [],
   "source": [
    "chisholm_2016_df = dataframes['zrl97zpngnaj-chisholm-et-al-2016']"
   ]
  },
  {
   "cell_type": "code",
   "execution_count": 49,
   "id": "013205b3-a80e-4665-b4ce-4636af8b37ff",
   "metadata": {},
   "outputs": [
    {
     "data": {
      "text/plain": [
       "14"
      ]
     },
     "execution_count": 49,
     "metadata": {},
     "output_type": "execute_result"
    }
   ],
   "source": [
    "len(chisholm_2016_df)"
   ]
  },
  {
   "cell_type": "markdown",
   "id": "0b113dcb-fa98-4b66-b47c-0af85ab2dcaf",
   "metadata": {},
   "source": [
    "# Ryan et al. (2018)"
   ]
  },
  {
   "cell_type": "code",
   "execution_count": 50,
   "id": "18737993-17f6-4220-a91e-1d6f7c978909",
   "metadata": {},
   "outputs": [],
   "source": [
    "ryan_2018_df = dataframes['0xy89kwboxbr-ryan-et-al-2018']"
   ]
  },
  {
   "cell_type": "code",
   "execution_count": 51,
   "id": "71f54ccf-c3eb-413a-803a-9fee5d1e01f2",
   "metadata": {},
   "outputs": [
    {
     "data": {
      "text/plain": [
       "42"
      ]
     },
     "execution_count": 51,
     "metadata": {},
     "output_type": "execute_result"
    }
   ],
   "source": [
    "len(ryan_2018_df)"
   ]
  },
  {
   "cell_type": "markdown",
   "id": "4a347812-5e00-4cc1-8b8f-751e1beb430b",
   "metadata": {},
   "source": [
    "# Kwong et al. (2016)"
   ]
  },
  {
   "cell_type": "code",
   "execution_count": 52,
   "id": "4d57763c-4d8a-4029-86f1-04512c9eca1e",
   "metadata": {},
   "outputs": [],
   "source": [
    "kwong_2016_df = dataframes['8o3g3eusd2uw-kwong-et-al-2016']"
   ]
  },
  {
   "cell_type": "code",
   "execution_count": 53,
   "id": "9037bcdc-d61e-446c-84a0-adc697450fca",
   "metadata": {},
   "outputs": [
    {
     "data": {
      "text/plain": [
       "48"
      ]
     },
     "execution_count": 53,
     "metadata": {},
     "output_type": "execute_result"
    }
   ],
   "source": [
    "len(kwong_2016_df)"
   ]
  },
  {
   "cell_type": "markdown",
   "id": "ebd1d564-ff30-4da3-8d05-70f96861e37b",
   "metadata": {},
   "source": [
    "# Kwong et al. (2018)"
   ]
  },
  {
   "cell_type": "code",
   "execution_count": 54,
   "id": "abeb39c7-7602-402f-8317-10e7cc09c3c8",
   "metadata": {},
   "outputs": [],
   "source": [
    "kwong_2018_df = dataframes['j4mxcy44euca-kwong-et-al-2018']"
   ]
  },
  {
   "cell_type": "code",
   "execution_count": 55,
   "id": "bec514c4-6d92-407e-940e-14df1c604e30",
   "metadata": {},
   "outputs": [
    {
     "data": {
      "text/plain": [
       "75"
      ]
     },
     "execution_count": 55,
     "metadata": {},
     "output_type": "execute_result"
    }
   ],
   "source": [
    "len(kwong_2018_df)"
   ]
  },
  {
   "cell_type": "markdown",
   "id": "5a2bb3ac-c446-4625-9e07-4de73e4a3bb2",
   "metadata": {},
   "source": [
    "# Buckley et al. (2018)"
   ]
  },
  {
   "cell_type": "code",
   "execution_count": 56,
   "id": "5522f2ba-32bb-4f3b-8dd7-e3bcf9863972",
   "metadata": {},
   "outputs": [],
   "source": [
    "buckley_2018_df = dataframes['ug6zrt1wmzd4-buckley-et-al-2018']"
   ]
  },
  {
   "cell_type": "code",
   "execution_count": 57,
   "id": "0d694ac3-14d8-4ade-89f0-c81dc5594832",
   "metadata": {},
   "outputs": [
    {
     "data": {
      "text/plain": [
       "92"
      ]
     },
     "execution_count": 57,
     "metadata": {},
     "output_type": "execute_result"
    }
   ],
   "source": [
    "len(buckley_2018_df)"
   ]
  },
  {
   "cell_type": "markdown",
   "id": "73b03c4b-f164-4ac9-bd47-cffd98a45655",
   "metadata": {},
   "source": [
    "# Fifer et al. (2018)"
   ]
  },
  {
   "cell_type": "code",
   "execution_count": 58,
   "id": "7d40dee0-2c69-439b-b7f0-4161261b1a53",
   "metadata": {},
   "outputs": [],
   "source": [
    "fifer_2018_df = dataframes['h3cz3rwyaglw-fifer-et-al-2018']"
   ]
  },
  {
   "cell_type": "code",
   "execution_count": 59,
   "id": "d9db28e9-d815-41d1-bb11-ca5787dfd799",
   "metadata": {},
   "outputs": [
    {
     "data": {
      "text/plain": [
       "100"
      ]
     },
     "execution_count": 59,
     "metadata": {},
     "output_type": "execute_result"
    }
   ],
   "source": [
    "len(fifer_2018_df)"
   ]
  },
  {
   "cell_type": "markdown",
   "id": "08cf5791-5332-4187-9aa3-9330ec1fffcb",
   "metadata": {},
   "source": [
    "# Didelot et al. (2016)"
   ]
  },
  {
   "cell_type": "code",
   "execution_count": 60,
   "id": "2c3d5b3a-1e26-46f4-b7c4-c1895f36e32f",
   "metadata": {},
   "outputs": [],
   "source": [
    "didelot_2016_df = dataframes['4hm16wpbztv9-didelot-et-al-2016']"
   ]
  },
  {
   "cell_type": "markdown",
   "id": "5c934ddb-f29c-4cc1-96fd-91de59b1916b",
   "metadata": {},
   "source": [
    "#### The metadata has rows that are duplicated.\n",
    "#### The isolates were sampled twice"
   ]
  },
  {
   "cell_type": "code",
   "execution_count": 61,
   "id": "8fad667a-24cf-4a6d-8e72-3f23669aa582",
   "metadata": {},
   "outputs": [],
   "source": [
    "## drop duplicates \n",
    "didelot_2016_df= didelot_2016_df.drop_duplicates(['NAME','EXPERIMENT ACCESSION','RUN ACCESSION'])"
   ]
  },
  {
   "cell_type": "code",
   "execution_count": 62,
   "id": "1b3c2f01-6261-4ee2-81a7-c37fda17063c",
   "metadata": {
    "scrolled": true
   },
   "outputs": [
    {
     "data": {
      "text/html": [
       "<div>\n",
       "<style scoped>\n",
       "    .dataframe tbody tr th:only-of-type {\n",
       "        vertical-align: middle;\n",
       "    }\n",
       "\n",
       "    .dataframe tbody tr th {\n",
       "        vertical-align: top;\n",
       "    }\n",
       "\n",
       "    .dataframe thead th {\n",
       "        text-align: right;\n",
       "    }\n",
       "</style>\n",
       "<table border=\"1\" class=\"dataframe\">\n",
       "  <thead>\n",
       "    <tr style=\"text-align: right;\">\n",
       "      <th></th>\n",
       "      <th>NAME</th>\n",
       "      <th>DATE</th>\n",
       "      <th>COUNTRY</th>\n",
       "      <th>REPORTING COUNTRY</th>\n",
       "      <th>CITY/REGION</th>\n",
       "      <th>COLLECTION DATE</th>\n",
       "      <th>HOST</th>\n",
       "      <th>HOST STATUS</th>\n",
       "      <th>LINEAGE</th>\n",
       "      <th>HOST SEX</th>\n",
       "      <th>...</th>\n",
       "      <th>gyrA_S91F</th>\n",
       "      <th>gyrA_D95G</th>\n",
       "      <th>parC_S87R</th>\n",
       "      <th>penA_ins346D</th>\n",
       "      <th>penA_P551S</th>\n",
       "      <th>porB1b_A121D</th>\n",
       "      <th>porB1b_G120K</th>\n",
       "      <th>ponA1_L421P</th>\n",
       "      <th>folP_R228S</th>\n",
       "      <th>rpsJ_V57M</th>\n",
       "    </tr>\n",
       "  </thead>\n",
       "  <tbody>\n",
       "    <tr>\n",
       "      <th>7</th>\n",
       "      <td>SAMEA656150</td>\n",
       "      <td>1st January 1995</td>\n",
       "      <td>United Kingdom</td>\n",
       "      <td>NaN</td>\n",
       "      <td>Sheffield</td>\n",
       "      <td>1995-01-01</td>\n",
       "      <td>Human</td>\n",
       "      <td>disease</td>\n",
       "      <td>NaN</td>\n",
       "      <td>NaN</td>\n",
       "      <td>...</td>\n",
       "      <td>0</td>\n",
       "      <td>0</td>\n",
       "      <td>0</td>\n",
       "      <td>1</td>\n",
       "      <td>0</td>\n",
       "      <td>0</td>\n",
       "      <td>0</td>\n",
       "      <td>0</td>\n",
       "      <td>0</td>\n",
       "      <td>1</td>\n",
       "    </tr>\n",
       "    <tr>\n",
       "      <th>23</th>\n",
       "      <td>SAMEA656150</td>\n",
       "      <td>1st December 1995</td>\n",
       "      <td>United Kingdom</td>\n",
       "      <td>NaN</td>\n",
       "      <td>Sheffield</td>\n",
       "      <td>1995-01-01</td>\n",
       "      <td>Human</td>\n",
       "      <td>disease</td>\n",
       "      <td>NaN</td>\n",
       "      <td>NaN</td>\n",
       "      <td>...</td>\n",
       "      <td>0</td>\n",
       "      <td>0</td>\n",
       "      <td>0</td>\n",
       "      <td>1</td>\n",
       "      <td>0</td>\n",
       "      <td>0</td>\n",
       "      <td>0</td>\n",
       "      <td>0</td>\n",
       "      <td>0</td>\n",
       "      <td>1</td>\n",
       "    </tr>\n",
       "    <tr>\n",
       "      <th>74</th>\n",
       "      <td>SAMEA656206</td>\n",
       "      <td>1st January 1996</td>\n",
       "      <td>United Kingdom</td>\n",
       "      <td>NaN</td>\n",
       "      <td>Sheffield</td>\n",
       "      <td>1996-01-01</td>\n",
       "      <td>Human</td>\n",
       "      <td>disease</td>\n",
       "      <td>NaN</td>\n",
       "      <td>NaN</td>\n",
       "      <td>...</td>\n",
       "      <td>0</td>\n",
       "      <td>0</td>\n",
       "      <td>0</td>\n",
       "      <td>1</td>\n",
       "      <td>0</td>\n",
       "      <td>0</td>\n",
       "      <td>0</td>\n",
       "      <td>0</td>\n",
       "      <td>0</td>\n",
       "      <td>1</td>\n",
       "    </tr>\n",
       "    <tr>\n",
       "      <th>90</th>\n",
       "      <td>SAMEA656206</td>\n",
       "      <td>18th June 1996</td>\n",
       "      <td>United Kingdom</td>\n",
       "      <td>NaN</td>\n",
       "      <td>Sheffield</td>\n",
       "      <td>1996-01-01</td>\n",
       "      <td>Human</td>\n",
       "      <td>disease</td>\n",
       "      <td>NaN</td>\n",
       "      <td>NaN</td>\n",
       "      <td>...</td>\n",
       "      <td>0</td>\n",
       "      <td>0</td>\n",
       "      <td>0</td>\n",
       "      <td>1</td>\n",
       "      <td>0</td>\n",
       "      <td>0</td>\n",
       "      <td>0</td>\n",
       "      <td>0</td>\n",
       "      <td>0</td>\n",
       "      <td>1</td>\n",
       "    </tr>\n",
       "    <tr>\n",
       "      <th>218</th>\n",
       "      <td>SAMEA656208</td>\n",
       "      <td>5th November 1996</td>\n",
       "      <td>United Kingdom</td>\n",
       "      <td>NaN</td>\n",
       "      <td>Sheffield</td>\n",
       "      <td>1996-01-01</td>\n",
       "      <td>Human</td>\n",
       "      <td>disease</td>\n",
       "      <td>NaN</td>\n",
       "      <td>NaN</td>\n",
       "      <td>...</td>\n",
       "      <td>0</td>\n",
       "      <td>0</td>\n",
       "      <td>0</td>\n",
       "      <td>1</td>\n",
       "      <td>0</td>\n",
       "      <td>0</td>\n",
       "      <td>0</td>\n",
       "      <td>0</td>\n",
       "      <td>0</td>\n",
       "      <td>1</td>\n",
       "    </tr>\n",
       "    <tr>\n",
       "      <th>234</th>\n",
       "      <td>SAMEA656208</td>\n",
       "      <td>1st January 1996</td>\n",
       "      <td>United Kingdom</td>\n",
       "      <td>NaN</td>\n",
       "      <td>Sheffield</td>\n",
       "      <td>1996-01-01</td>\n",
       "      <td>Human</td>\n",
       "      <td>disease</td>\n",
       "      <td>NaN</td>\n",
       "      <td>NaN</td>\n",
       "      <td>...</td>\n",
       "      <td>0</td>\n",
       "      <td>0</td>\n",
       "      <td>0</td>\n",
       "      <td>1</td>\n",
       "      <td>0</td>\n",
       "      <td>0</td>\n",
       "      <td>0</td>\n",
       "      <td>0</td>\n",
       "      <td>0</td>\n",
       "      <td>1</td>\n",
       "    </tr>\n",
       "  </tbody>\n",
       "</table>\n",
       "<p>6 rows × 100 columns</p>\n",
       "</div>"
      ],
      "text/plain": [
       "            NAME               DATE         COUNTRY  REPORTING COUNTRY  \\\n",
       "7    SAMEA656150   1st January 1995  United Kingdom                NaN   \n",
       "23   SAMEA656150  1st December 1995  United Kingdom                NaN   \n",
       "74   SAMEA656206   1st January 1996  United Kingdom                NaN   \n",
       "90   SAMEA656206     18th June 1996  United Kingdom                NaN   \n",
       "218  SAMEA656208  5th November 1996  United Kingdom                NaN   \n",
       "234  SAMEA656208   1st January 1996  United Kingdom                NaN   \n",
       "\n",
       "    CITY/REGION COLLECTION DATE   HOST HOST STATUS  LINEAGE HOST SEX  ...  \\\n",
       "7     Sheffield      1995-01-01  Human     disease      NaN      NaN  ...   \n",
       "23    Sheffield      1995-01-01  Human     disease      NaN      NaN  ...   \n",
       "74    Sheffield      1996-01-01  Human     disease      NaN      NaN  ...   \n",
       "90    Sheffield      1996-01-01  Human     disease      NaN      NaN  ...   \n",
       "218   Sheffield      1996-01-01  Human     disease      NaN      NaN  ...   \n",
       "234   Sheffield      1996-01-01  Human     disease      NaN      NaN  ...   \n",
       "\n",
       "     gyrA_S91F  gyrA_D95G parC_S87R  penA_ins346D penA_P551S  porB1b_A121D  \\\n",
       "7            0          0         0             1          0             0   \n",
       "23           0          0         0             1          0             0   \n",
       "74           0          0         0             1          0             0   \n",
       "90           0          0         0             1          0             0   \n",
       "218          0          0         0             1          0             0   \n",
       "234          0          0         0             1          0             0   \n",
       "\n",
       "     porB1b_G120K ponA1_L421P  folP_R228S rpsJ_V57M  \n",
       "7               0           0           0         1  \n",
       "23              0           0           0         1  \n",
       "74              0           0           0         1  \n",
       "90              0           0           0         1  \n",
       "218             0           0           0         1  \n",
       "234             0           0           0         1  \n",
       "\n",
       "[6 rows x 100 columns]"
      ]
     },
     "execution_count": 62,
     "metadata": {},
     "output_type": "execute_result"
    }
   ],
   "source": [
    "didelot_2016_df[didelot_2016_df['NAME'].duplicated(keep=False)]"
   ]
  },
  {
   "cell_type": "markdown",
   "id": "2af15184-88ea-471e-ac81-33b8e6ddd5db",
   "metadata": {},
   "source": [
    "\n",
    "#### Experiment and run accessions are inconsistent with the publication\n",
    "#### The metadata for this collection is annotated with uncurated_discr (uncurated_discrepancy)"
   ]
  },
  {
   "cell_type": "code",
   "execution_count": 63,
   "id": "3f344b13-4252-4104-9340-b239462bd171",
   "metadata": {},
   "outputs": [],
   "source": [
    "didelot_2016_df['CURATION'] = 'uncurated_discr'\n",
    "\n",
    "## fill na in the CURATION column with curated \n",
    "didelot_2016_df['CURATION'].fillna('Curated', inplace=True)"
   ]
  },
  {
   "cell_type": "code",
   "execution_count": 64,
   "id": "d625cc25-d5d1-423b-8e85-c40867d16c94",
   "metadata": {},
   "outputs": [
    {
     "data": {
      "text/plain": [
       "194"
      ]
     },
     "execution_count": 64,
     "metadata": {},
     "output_type": "execute_result"
    }
   ],
   "source": [
    "len(didelot_2016_df)"
   ]
  },
  {
   "cell_type": "markdown",
   "id": "936835be-490e-4a4f-8ba9-fdd17990b7a1",
   "metadata": {},
   "source": [
    "# Demczuk et al. (2016)"
   ]
  },
  {
   "cell_type": "code",
   "execution_count": 65,
   "id": "b4d4d46d-9212-4992-91dc-3d0123e7a8f9",
   "metadata": {},
   "outputs": [],
   "source": [
    "demczuk_2016_df = dataframes['qfqviofgd6i8-demczuk-et-al-2016']"
   ]
  },
  {
   "cell_type": "code",
   "execution_count": 66,
   "id": "a50370d5-ea74-44cf-a3f3-ca6e15ed795e",
   "metadata": {},
   "outputs": [
    {
     "data": {
      "text/plain": [
       "200"
      ]
     },
     "execution_count": 66,
     "metadata": {},
     "output_type": "execute_result"
    }
   ],
   "source": [
    "len(demczuk_2016_df)"
   ]
  },
  {
   "cell_type": "markdown",
   "id": "9388ac5b-b579-45ce-acf2-c479ab151cfa",
   "metadata": {},
   "source": [
    "# Demczuk et al. (2015)"
   ]
  },
  {
   "cell_type": "code",
   "execution_count": 67,
   "id": "743b9f62-1b60-4889-b16c-c6a9067160cf",
   "metadata": {},
   "outputs": [],
   "source": [
    "demczuk_2015_df = dataframes['481d4jk73jaz-demczuk-et-al-2015']"
   ]
  },
  {
   "cell_type": "code",
   "execution_count": 68,
   "id": "d55b05d0-5816-4a19-b05b-9e448c7fed06",
   "metadata": {},
   "outputs": [
    {
     "data": {
      "text/plain": [
       "168"
      ]
     },
     "execution_count": 68,
     "metadata": {},
     "output_type": "execute_result"
    }
   ],
   "source": [
    "len(demczuk_2015_df)"
   ]
  },
  {
   "cell_type": "markdown",
   "id": "7c792978-577a-4210-8127-d982ad7857ba",
   "metadata": {},
   "source": [
    "# Sánchez-Busó et al. (2019)"
   ]
  },
  {
   "cell_type": "code",
   "execution_count": 69,
   "id": "58419475-104e-4a90-8bcb-62409efbc74a",
   "metadata": {},
   "outputs": [],
   "source": [
    "sanchez_buso_2019_df = dataframes['9stz0m94hin7-sanchez-buso-et-al-2019']"
   ]
  },
  {
   "cell_type": "code",
   "execution_count": 70,
   "id": "4b66a690-29f8-412d-86ea-bc1472a7381d",
   "metadata": {},
   "outputs": [
    {
     "data": {
      "text/plain": [
       "395"
      ]
     },
     "execution_count": 70,
     "metadata": {},
     "output_type": "execute_result"
    }
   ],
   "source": [
    "len(sanchez_buso_2019_df)"
   ]
  },
  {
   "cell_type": "markdown",
   "id": "fa929299-9ee0-4856-9067-aed687a0d595",
   "metadata": {},
   "source": [
    "# Yahara et al. (2018)"
   ]
  },
  {
   "cell_type": "code",
   "execution_count": 71,
   "id": "1c6efcb1-103d-420d-a644-a57aa3330a36",
   "metadata": {},
   "outputs": [],
   "source": [
    "yahara_2018_df = dataframes['rll02476p0cm-yahara-et-al-2018']"
   ]
  },
  {
   "cell_type": "markdown",
   "id": "f50793d3-8383-417b-b5df-be18b9ac36c7",
   "metadata": {},
   "source": [
    "# Lee et al. (2018)"
   ]
  },
  {
   "cell_type": "code",
   "execution_count": 72,
   "id": "0893c6c2-170e-4566-ba61-67bef5db0997",
   "metadata": {},
   "outputs": [],
   "source": [
    "lee_2018_df = dataframes['rvwzxxo2uxw0-lee-et-al-2018']"
   ]
  },
  {
   "cell_type": "code",
   "execution_count": 73,
   "id": "b43f1f74-ba82-47b6-a9ba-09e70db4c118",
   "metadata": {},
   "outputs": [
    {
     "data": {
      "text/plain": [
       "376"
      ]
     },
     "execution_count": 73,
     "metadata": {},
     "output_type": "execute_result"
    }
   ],
   "source": [
    "len(lee_2018_df)"
   ]
  },
  {
   "cell_type": "markdown",
   "id": "f31201e1-2d4c-47aa-81ba-4fbc73eba54a",
   "metadata": {},
   "source": [
    "# Check for duplicated isolates based on the NAME column"
   ]
  },
  {
   "cell_type": "markdown",
   "id": "8ce41ad3-22ed-4013-b36e-d9d6b7f6a1b8",
   "metadata": {},
   "source": [
    "### Compare and print duplicates"
   ]
  },
  {
   "cell_type": "code",
   "execution_count": 74,
   "id": "86c2658c-c99d-4a1f-bd1a-3310ccb07f9b",
   "metadata": {},
   "outputs": [],
   "source": [
    "#create a dicitonary of the dataframes\n",
    "\n",
    "dfs = {\n",
    "    'lee_2018': lee_2018_df, \n",
    "    'yahara_2018': yahara_2018_df, \n",
    "    'sanchez_buso_2019': sanchez_buso_2019_df, \n",
    "    'demczuk_2015': demczuk_2015_df,\n",
    "    'demczuk_2016': demczuk_2016_df,\n",
    "    'didelot_2016': didelot_2016_df,\n",
    "    'fifer_2018': fifer_2018_df,\n",
    "    'buckley_2018': buckley_2018_df,\n",
    "    'kwong_2018': kwong_2018_df,\n",
    "    'kwong_2016': kwong_2016_df,\n",
    "    'ryan_2018': ryan_2018_df,\n",
    "    'chisholm_2016': chisholm_2016_df,\n",
    "    'golparian_2020': golparian_2020_df,\n",
    "    'lan_2020': lan_2020_df,\n",
    "    'thomas_2019': thomas_2019_df,\n",
    "    'wind_2017': wind_2017_df,\n",
    "    'ezewudo_2015': ezewudo_2015_df,\n",
    "    'grad_2014': grad_2014_df,\n",
    "    'grad_2016': grad_2016_df,\n",
    "    'cehovin_2018': cehovin_2018_df,\n",
    "    'schmerer_2020': schmerer_2020_df,\n",
    "    'osnes_2020': osnes_2020_df,\n",
    "    'alfsnes_2020': alfsnes_2020_df,\n",
    "    'mortimer_2020': mortimer_2020_df,\n",
    "    'desilva_2016': desilva_2016_df,\n",
    "    'town_2020': town_2020_df,\n",
    "    'williamson_2019': williamson_2019_df,\n",
    "    'eurogasp2013': eurogasp2013_df,\n",
    "    'eurogasp2018': eurogasp2018_df\n",
    "}"
   ]
  },
  {
   "cell_type": "code",
   "execution_count": 75,
   "id": "db6b1c03-4eb4-468a-ac06-dcd41ab81408",
   "metadata": {},
   "outputs": [],
   "source": [
    "# compare and print duplicates\n",
    "def compare_and_print_duplicates(dfs):\n",
    "    \"\"\"\n",
    "    takes a dictionary of DataFrames (dfs) as input, where each DataFrame is associated with a specific key\n",
    "    iterate through all pairs of DataFrames in the provided dictionary \n",
    "    For each pair of DataFrames, it identifies duplicate rows based on the 'NAME' column\n",
    "    If there are duplicates found (i.e., the duplicated DataFrame is not empty), the function prints the list of duplicate values in the 'NAME' column\n",
    "    \"\"\"\n",
    "    keys = list(dfs.keys())\n",
    "    for i in range(len(keys)):\n",
    "        for j in range(i+1, len(keys)):\n",
    "            key1, key2 = keys[i], keys[j]\n",
    "            df1, df2 = dfs[key1], dfs[key2]\n",
    "            \n",
    "            # Find duplicates in 'NAME' column\n",
    "            duplicated = pd.merge(df1[['NAME']], df2[['NAME']], on='NAME', how='inner')\n",
    "            \n",
    "            # Check if there are any duplicates and print them\n",
    "            if not duplicated.empty:\n",
    "                dup_list = duplicated['NAME'].tolist()\n",
    "                print(f\"Duplicates between {key1} and {key2}:\")\n",
    "                print(duplicated['NAME'].tolist())"
   ]
  },
  {
   "cell_type": "code",
   "execution_count": null,
   "id": "f5f5f2e6-7876-4abf-b8e0-48a78cf4fa1b",
   "metadata": {},
   "outputs": [],
   "source": [
    "#compare_and_print_duplicates(dfs)"
   ]
  },
  {
   "cell_type": "markdown",
   "id": "8b78bc04-fc77-4a7b-bc04-bfd852b8a3f9",
   "metadata": {},
   "source": [
    "## Flag duplicate/repeat isolates in the dataframe"
   ]
  },
  {
   "cell_type": "code",
   "execution_count": null,
   "id": "0b61a5ad-f655-4886-a9c7-313772313b73",
   "metadata": {},
   "outputs": [],
   "source": [
    "\n"
   ]
  },
  {
   "cell_type": "code",
   "execution_count": 77,
   "id": "ca43e998-6c87-4096-b784-f0d35d24f227",
   "metadata": {},
   "outputs": [],
   "source": [
    "def compare_mark_duplicates_and_concatenate(dfs):\n",
    "    \"\"\"\n",
    "    takes a dictionary of DataFrames (dfs) as input, where each DataFrame is associated with a specific key\n",
    "    iterates through all pairs of DataFrames in the provided dictionary .\n",
    "    For each pair of DataFrames, it identifies duplicate rows based on the 'NAME' column. \n",
    "    It uses the pd.merge function to find common values in the 'NAME' column and stores the result in the duplicated DataFrame\n",
    "    If there are duplicates found (i.e., the duplicated DataFrame is not empty), the function marks the duplicates in the original DataFrames by updating the 'REPEAT_ISOLATES' column.\n",
    "    It creates a unique duplicate flag (duplicate_flag) for each pair of DataFrames\n",
    "    It returns:\n",
    "    * concatenated DataFrame that includes the marked duplicates.\n",
    "    \n",
    "    \"\"\"\n",
    "    keys = list(dfs.keys())\n",
    "    for i in range(len(keys)):\n",
    "        for j in range(i+1, len(keys)):\n",
    "            key1, key2 = keys[i], keys[j]\n",
    "            df1, df2 = dfs[key1], dfs[key2]\n",
    "\n",
    "            # Find duplicates in 'NAME' column\n",
    "            duplicated = pd.merge(df1[['NAME']], df2[['NAME']], on='NAME', how='inner')\n",
    "            \n",
    "            # Mark duplicates in the original dataframes\n",
    "            if not duplicated.empty:\n",
    "                duplicate_flag = f'Dupl_{key1}-{key2}'\n",
    "                for name in duplicated['NAME']:\n",
    "                    # Update 'repeat_isolates' in both dataframes\n",
    "                    df1.loc[df1['NAME'] == name, 'REPEAT_ISOLATES'] = duplicate_flag\n",
    "                    df2.loc[df2['NAME'] == name, 'REPEAT_ISOLATES'] = duplicate_flag\n",
    "\n",
    "    # Concatenate all dataframes into one\n",
    "    pw_concatenated_df = pd.concat(dfs.values(), ignore_index=True)\n",
    "\n",
    "    return pw_concatenated_df"
   ]
  },
  {
   "cell_type": "code",
   "execution_count": 78,
   "id": "c4291233-b494-43c2-b419-5bb547475928",
   "metadata": {},
   "outputs": [],
   "source": [
    "# concatenate all Gonno data\n",
    "pw_concatenated_final_df = compare_mark_duplicates_and_concatenate(dfs)"
   ]
  },
  {
   "cell_type": "code",
   "execution_count": 79,
   "id": "082bd0ff-25dc-40f5-9394-3b65ddc76874",
   "metadata": {},
   "outputs": [],
   "source": [
    "# modify names REPEAT_ISOLATES rows\n",
    "pw_concatenated_final_df['REPEAT_ISOLATES'] = pw_concatenated_final_df['REPEAT_ISOLATES'].str.replace(r'_(\\d{4})', r'\\1', regex=True)\n",
    "\n",
    "# Replacing NaN in the REPEAT_ISOLATES column with unique\n",
    "pw_concatenated_final_df['REPEAT_ISOLATES'].replace(np.nan, 'Unique', inplace=True)"
   ]
  },
  {
   "cell_type": "code",
   "execution_count": null,
   "id": "76a32137-2586-4ba5-9b42-f87366676617",
   "metadata": {},
   "outputs": [],
   "source": []
  },
  {
   "cell_type": "markdown",
   "id": "3e2aa450-340a-412b-a159-ab1d903cec23",
   "metadata": {},
   "source": [
    "### Convert float in these columns with integres"
   ]
  },
  {
   "cell_type": "code",
   "execution_count": 80,
   "id": "8827ea46-f573-4048-8420-f1bf32323f1c",
   "metadata": {},
   "outputs": [],
   "source": [
    "# List of columns to convert to Int64\n",
    "columns_to_convert = [\n",
    "    'mtrR_promoter_mosaic_2', 'blaTEM', 'tetM', 'mtrR_promoter_a-57del',\n",
    "    'mtrR_G45D', 'rplD_G70D', 'mtrC_disrupted', '23S_rDNA_c2597t',\n",
    "    'penA_G545S', 'penA_V316T', 'penA_I312M', 'gyrA_S91F', 'gyrA_D95G',\n",
    "    'gyrA_D95A', 'gyrA_D95N', 'parC_S87R', 'parC_D86N', 'parC_S87N',\n",
    "    'parC_S87I', 'parC_E91K', 'mtrR_A39T', 'mtrR_disrupted', 'penA_A501T',\n",
    "    'penA_G542S', 'penA_A501V', 'penA_P551S', 'porB1b_A121D', 'porB1b_G120K',\n",
    "    'porB1b_A121N', 'ponA1_L421P', 'folP_R228S', 'rpsJ_V57M',\n",
    "    'mtrR_promoter_mosaic_1', '23S_rDNA_a2045g', 'penA_T483S', 'penA_A311V',\n",
    "    'parC_S88P', 'mtrR_promoter_g-131a', 'mtrR_promoter_a-56c', 'mtrD_mosaic_1',\n",
    "    'penA_A501P', 'parE_G410V', '16S_rDNA_c1184t', 'tetM_disrupted', 'ermC',\n",
    "    'mtrD_mosaic_2', 'rpsE_T24P', 'mtrD_mosaic_3', 'mtrR_promoter_mosaic_3',\n",
    "    'rplV_----90ARAK', 'rplV_------83KGPSLK', 'rpoB_R201H', 'rpoD_D92-',\n",
    "    'rpoD_D93-', 'rpoD_D94-', 'rpoD_A95-', 'rpoD_E98K', 'blaTEM_disrupted',\n",
    "    'rpoB_P157L'\n",
    "]\n",
    "\n",
    "# Loop through each column and convert it\n",
    "for col in columns_to_convert:\n",
    "    pw_concatenated_final_df[col] = pw_concatenated_final_df[col].replace('n', 0).fillna(0).astype('Int64')\n"
   ]
  },
  {
   "cell_type": "markdown",
   "id": "7cb157fc-d24d-4507-af49-866259a9d210",
   "metadata": {},
   "source": [
    "### Reshuffle columns and drop the unwanted columns"
   ]
  },
  {
   "cell_type": "code",
   "execution_count": 81,
   "id": "8092146c-a0d3-4126-a011-860a01ec6ef3",
   "metadata": {},
   "outputs": [],
   "source": [
    "columns = list(pw_concatenated_final_df.columns)\n",
    "columns_to_move = ['COLLECTION LABEL', 'CURATION', 'REPEAT_ISOLATES']\n",
    "\n",
    "# Remove these columns from the original list\n",
    "for column in columns_to_move:\n",
    "    columns.remove(column)\n",
    "\n",
    "# Append them back at the end\n",
    "columns.extend(columns_to_move)\n",
    "\n",
    "# Reorder the DataFrame\n",
    "pw_concatenated_final_df = pw_concatenated_final_df[columns]\n",
    "\n",
    "\n",
    "## drop columns\n",
    "pw_concatenated_final_df.drop(['REPORTING COUNTRY', 'PMID 2', 'BIORXIV', 'COLLECTION'], axis=1, inplace=True)"
   ]
  },
  {
   "cell_type": "code",
   "execution_count": 82,
   "id": "227e29ff-af60-4e7a-b366-99ebd6dabe64",
   "metadata": {},
   "outputs": [],
   "source": [
    "# write to csv\n",
    "pw_concatenated_final_df.to_csv(\"/Users/lshmg29/Desktop/pathogenwatch_GONO_collections/pw_Gonno_collections.csv\", sep=',', index=False)"
   ]
  },
  {
   "cell_type": "code",
   "execution_count": 83,
   "id": "fcfc9b2c-e740-428d-97fe-c5cdf08443e3",
   "metadata": {},
   "outputs": [
    {
     "data": {
      "text/plain": [
       "14887"
      ]
     },
     "execution_count": 83,
     "metadata": {},
     "output_type": "execute_result"
    }
   ],
   "source": [
    "len(pw_concatenated_final_df['NAME'].unique())"
   ]
  },
  {
   "cell_type": "code",
   "execution_count": 84,
   "id": "bc837c70-b38e-4eb3-85f6-a92c730c015c",
   "metadata": {},
   "outputs": [
    {
     "data": {
      "text/plain": [
       "15259"
      ]
     },
     "execution_count": 84,
     "metadata": {},
     "output_type": "execute_result"
    }
   ],
   "source": [
    "len(pw_concatenated_final_df)"
   ]
  },
  {
   "cell_type": "code",
   "execution_count": null,
   "id": "0eb1297c-bcd8-4fe5-a652-0f87f2bcab39",
   "metadata": {},
   "outputs": [],
   "source": []
  }
 ],
 "metadata": {
  "kernelspec": {
   "display_name": "Python 3 (ipykernel)",
   "language": "python",
   "name": "python3"
  },
  "language_info": {
   "codemirror_mode": {
    "name": "ipython",
    "version": 3
   },
   "file_extension": ".py",
   "mimetype": "text/x-python",
   "name": "python",
   "nbconvert_exporter": "python",
   "pygments_lexer": "ipython3",
   "version": "3.7.12"
  }
 },
 "nbformat": 4,
 "nbformat_minor": 5
}
